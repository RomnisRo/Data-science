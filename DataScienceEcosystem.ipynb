{
 "cells": [
  {
   "cell_type": "markdown",
   "id": "e9d50ca7-8b06-4c11-937b-f9796c0b5135",
   "metadata": {},
   "source": [
    "# Data Science Tools and Ecosystem"
   ]
  },
  {
   "cell_type": "markdown",
   "id": "73c7a3df-4bb1-4c5c-85ee-6317e9086b98",
   "metadata": {},
   "source": [
    "In this notebook, Data Science Tools and Ecosystem are summarized."
   ]
  },
  {
   "cell_type": "markdown",
   "id": "ab08cf76-15a4-4587-bcac-35f093dd91e7",
   "metadata": {},
   "source": [
    "## Some of the popular languages that Data Scientists use are:"
   ]
  },
  {
   "cell_type": "markdown",
   "id": "a6129e40-2c20-4965-a03d-4de520aef7fb",
   "metadata": {},
   "source": [
    "1. Python\n",
    "2. R\n",
    "3. SQL"
   ]
  },
  {
   "cell_type": "markdown",
   "id": "16fe04a5-7d79-45e3-87f4-d3b0bc4eaa39",
   "metadata": {},
   "source": [
    "# Some of the commonly used libraries used by Data Scientists include:"
   ]
  },
  {
   "cell_type": "markdown",
   "id": "e457290d-d537-4560-ae4e-06bdcbaecb64",
   "metadata": {},
   "source": [
    "### ordered list"
   ]
  },
  {
   "cell_type": "markdown",
   "id": "f8d71a05-2c71-49ce-9017-dd99c35eec09",
   "metadata": {},
   "source": [
    "1. Pandas\n",
    "2. NumPy\n",
    "3. Matplotlib"
   ]
  },
  {
   "cell_type": "markdown",
   "id": "4c930903-3bb4-4b1a-a634-7e82a60b60d1",
   "metadata": {},
   "source": [
    "# Objectives:"
   ]
  },
  {
   "cell_type": "markdown",
   "id": "3441f236-98a5-46d0-b48a-5810fafeb7fe",
   "metadata": {},
   "source": [
    "* languages for Data Science\n",
    "* Data science tools\n",
    "* Libraries for Data Science"
   ]
  },
  {
   "cell_type": "markdown",
   "id": "b7317dee-4de0-4305-aa18-db6cc6ceae61",
   "metadata": {},
   "source": [
    "# Data Science Tools"
   ]
  },
  {
   "cell_type": "markdown",
   "id": "3c13d023-2877-465c-8394-bfa8c6aaf1e4",
   "metadata": {},
   "source": [
    "Jupiter Notebook"
   ]
  },
  {
   "cell_type": "markdown",
   "id": "9e84c2c6-993d-4a14-a995-9c46208008ec",
   "metadata": {},
   "source": [
    "Appache zeppelin"
   ]
  },
  {
   "cell_type": "markdown",
   "id": "e45b4caf-cc65-4ef9-830f-3d0a9135b5c6",
   "metadata": {},
   "source": [
    "RStudio"
   ]
  },
  {
   "cell_type": "markdown",
   "id": "7972c225-04e9-4f99-b28f-73ccada076f6",
   "metadata": {},
   "source": [
    "### Below are a few examples of evaluating arithmetic expressions in Python"
   ]
  },
  {
   "cell_type": "markdown",
   "id": "0df9bb93-2252-49fd-92cc-bac576e8173c",
   "metadata": {},
   "source": [
    "(a + b)    (a ** b)    (a * b)   (a / b)   (a - b)   (a // b)"
   ]
  },
  {
   "cell_type": "markdown",
   "id": "c8ce5969-e0b2-400b-b8f5-0ad492330030",
   "metadata": {},
   "source": [
    "This a simple arithmetic expression to mutiply then add integers"
   ]
  },
  {
   "cell_type": "code",
   "execution_count": 1,
   "id": "dcfe3650-042c-4899-a3b3-6072ad6211b2",
   "metadata": {},
   "outputs": [
    {
     "data": {
      "text/plain": [
       "17"
      ]
     },
     "execution_count": 1,
     "metadata": {},
     "output_type": "execute_result"
    }
   ],
   "source": [
    "(3*4)+5"
   ]
  },
  {
   "cell_type": "markdown",
   "id": "5780ba47-529e-4215-80b6-6d6a8327cf91",
   "metadata": {},
   "source": [
    "### This will convert 200 minutes to hours by diving by 60"
   ]
  },
  {
   "cell_type": "code",
   "execution_count": 2,
   "id": "52dd84fe-f7d1-48c7-b506-f7049035b478",
   "metadata": {},
   "outputs": [
    {
     "name": "stdout",
     "output_type": "stream",
     "text": [
      "3.3333333333333335\n"
     ]
    }
   ],
   "source": [
    "minutes = 200\n",
    "hours = minutes / 60\n",
    "print(hours)\n"
   ]
  },
  {
   "cell_type": "markdown",
   "id": "ff7fae50-9888-426c-bc9b-4752619aebd3",
   "metadata": {},
   "source": [
    "## Author"
   ]
  },
  {
   "cell_type": "markdown",
   "id": "daf7257d-0529-41dc-94b1-50317fa4ff5f",
   "metadata": {},
   "source": [
    "Romnis Ricardo Arias Trujillo"
   ]
  },
  {
   "cell_type": "code",
   "execution_count": null,
   "id": "22383164-b6f7-4b68-bd74-471079c5b03a",
   "metadata": {},
   "outputs": [],
   "source": []
  }
 ],
 "metadata": {
  "kernelspec": {
   "display_name": "Python 3 (ipykernel)",
   "language": "python",
   "name": "python3"
  },
  "language_info": {
   "codemirror_mode": {
    "name": "ipython",
    "version": 3
   },
   "file_extension": ".py",
   "mimetype": "text/x-python",
   "name": "python",
   "nbconvert_exporter": "python",
   "pygments_lexer": "ipython3",
   "version": "3.12.8"
  }
 },
 "nbformat": 4,
 "nbformat_minor": 5
}
